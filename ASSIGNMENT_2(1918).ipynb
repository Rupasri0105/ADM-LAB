{
  "nbformat": 4,
  "nbformat_minor": 0,
  "metadata": {
    "colab": {
      "provenance": [],
      "authorship_tag": "ABX9TyNbMVasUa6xTXrcQQEtgJB3",
      "include_colab_link": true
    },
    "kernelspec": {
      "name": "python3",
      "display_name": "Python 3"
    },
    "language_info": {
      "name": "python"
    }
  },
  "cells": [
    {
      "cell_type": "markdown",
      "metadata": {
        "id": "view-in-github",
        "colab_type": "text"
      },
      "source": [
        "<a href=\"https://colab.research.google.com/github/Rupasri0105/ADM-LAB/blob/main/ASSIGNMENT_2(1918).ipynb\" target=\"_parent\"><img src=\"https://colab.research.google.com/assets/colab-badge.svg\" alt=\"Open In Colab\"/></a>"
      ]
    },
    {
      "cell_type": "code",
      "source": [
        "import pandas as pd"
      ],
      "metadata": {
        "id": "hmHeEKZXil5N"
      },
      "execution_count": 2,
      "outputs": []
    },
    {
      "cell_type": "code",
      "source": [
        "import numpy as np"
      ],
      "metadata": {
        "id": "9tGhuhk-ipoP"
      },
      "execution_count": 3,
      "outputs": []
    },
    {
      "cell_type": "code",
      "source": [
        "import matplotlib.pyplot as plt"
      ],
      "metadata": {
        "id": "l1h_FxWEisT2"
      },
      "execution_count": 4,
      "outputs": []
    },
    {
      "cell_type": "code",
      "source": [
        "import seaborn as sns"
      ],
      "metadata": {
        "id": "7oIIn9C-iutj"
      },
      "execution_count": 5,
      "outputs": []
    },
    {
      "cell_type": "code",
      "source": [
        "# Step 1: Load the dataset\n",
        "data = pd.read_csv(\"employee_performance.csv\")"
      ],
      "metadata": {
        "id": "YLTFnbgVixD2"
      },
      "execution_count": 6,
      "outputs": []
    },
    {
      "cell_type": "code",
      "source": [
        "# Step 2: Generate statistical summaries\n",
        "print(\"Statistical Summaries:\")\n",
        "print(data.describe())\n",
        "print(\"\\nDataset Information:\")\n",
        "print(data.info())"
      ],
      "metadata": {
        "colab": {
          "base_uri": "https://localhost:8080/",
          "height": 0
        },
        "id": "XdCQ7D91iz6y",
        "outputId": "23983998-f895-4dde-cf38-da56622737fc"
      },
      "execution_count": 7,
      "outputs": [
        {
          "output_type": "stream",
          "name": "stdout",
          "text": [
            "Statistical Summaries:\n",
            "       Employee_ID  Monthly_Salary  Years_of_Experience  Performance_Score\n",
            "count   100.000000      100.000000           100.000000         100.000000\n",
            "mean     50.500000    74155.081700            10.240000           5.500000\n",
            "std      29.011492    24765.021112             5.778959           2.858622\n",
            "min       1.000000    30634.090000             1.000000           1.000000\n",
            "25%      25.750000    54103.632500             6.000000           3.000000\n",
            "50%      50.500000    73622.835000            10.000000           6.000000\n",
            "75%      75.250000    94087.112500            16.000000           8.000000\n",
            "max     100.000000   119817.320000            20.000000          10.000000\n",
            "\n",
            "Dataset Information:\n",
            "<class 'pandas.core.frame.DataFrame'>\n",
            "RangeIndex: 100 entries, 0 to 99\n",
            "Data columns (total 5 columns):\n",
            " #   Column               Non-Null Count  Dtype  \n",
            "---  ------               --------------  -----  \n",
            " 0   Employee_ID          100 non-null    int64  \n",
            " 1   Department           100 non-null    object \n",
            " 2   Monthly_Salary       100 non-null    float64\n",
            " 3   Years_of_Experience  100 non-null    int64  \n",
            " 4   Performance_Score    100 non-null    int64  \n",
            "dtypes: float64(1), int64(3), object(1)\n",
            "memory usage: 4.0+ KB\n",
            "None\n"
          ]
        }
      ]
    },
    {
      "cell_type": "code",
      "source": [
        "# Step 3: Data transformation\n",
        "# Encoding categorical data\n",
        "if 'Department' in data.columns:\n",
        "    data['Department_Encoded'] = data['Department'].astype('category').cat.codes"
      ],
      "metadata": {
        "id": "4yGJ_jpmi3Jd"
      },
      "execution_count": 8,
      "outputs": []
    },
    {
      "cell_type": "code",
      "source": [
        "# Create new derived columns (e.g., categorize Performance_Score)\n",
        "def categorize_performance(score):\n",
        "    if score >= 8:\n",
        "        return 'High'\n",
        "    elif score >= 5:\n",
        "        return 'Medium'\n",
        "    else:\n",
        "        return 'Low'"
      ],
      "metadata": {
        "id": "UKe7DcQxi8rk"
      },
      "execution_count": 9,
      "outputs": []
    },
    {
      "cell_type": "code",
      "source": [
        "data['Performance_Category'] = data['Performance_Score'].apply(categorize_performance)"
      ],
      "metadata": {
        "id": "UnM-ns9tjA6I"
      },
      "execution_count": 10,
      "outputs": []
    },
    {
      "cell_type": "code",
      "source": [
        "# Grouping and Aggregation\n",
        "agg_data = data.groupby('Department').agg({\n",
        "    'Monthly_Salary': ['mean', 'median'],\n",
        "    'Years_of_Experience': 'mean',\n",
        "    'Performance_Score': 'mean'\n",
        "}).reset_index()"
      ],
      "metadata": {
        "id": "Ui7Lh9z1jFOE"
      },
      "execution_count": 11,
      "outputs": []
    },
    {
      "cell_type": "code",
      "source": [
        "print(\"\\nAggregated Data by Department:\")\n",
        "print(agg_data)"
      ],
      "metadata": {
        "colab": {
          "base_uri": "https://localhost:8080/",
          "height": 0
        },
        "id": "hQLl5BZIjJeq",
        "outputId": "e5a4541f-7bbc-4177-c0ac-64a6ae0056ac"
      },
      "execution_count": 12,
      "outputs": [
        {
          "output_type": "stream",
          "name": "stdout",
          "text": [
            "\n",
            "Aggregated Data by Department:\n",
            "   Department Monthly_Salary            Years_of_Experience Performance_Score\n",
            "                        mean     median                mean              mean\n",
            "0     Finance   77424.422667  78392.370           10.200000          5.533333\n",
            "1          HR   75454.913125  76964.880           11.437500          6.312500\n",
            "2          IT   73841.640000  72834.580           11.250000          5.600000\n",
            "3   Marketing   67350.616667  61562.960           11.222222          4.666667\n",
            "4  Operations   73694.855000  75096.880            7.875000          5.791667\n",
            "5       Sales   74699.896875  75246.585           10.812500          4.562500\n"
          ]
        }
      ]
    },
    {
      "cell_type": "code",
      "source": [
        "# Step 4: Create visualizations\n",
        "plt.figure(figsize=(10, 6))"
      ],
      "metadata": {
        "colab": {
          "base_uri": "https://localhost:8080/",
          "height": 52
        },
        "id": "E-ofIIGAjNGl",
        "outputId": "6659cdba-5e67-4c22-969d-cad77ee3892e"
      },
      "execution_count": 13,
      "outputs": [
        {
          "output_type": "execute_result",
          "data": {
            "text/plain": [
              "<Figure size 1000x600 with 0 Axes>"
            ]
          },
          "metadata": {},
          "execution_count": 13
        },
        {
          "output_type": "display_data",
          "data": {
            "text/plain": [
              "<Figure size 1000x600 with 0 Axes>"
            ]
          },
          "metadata": {}
        }
      ]
    },
    {
      "cell_type": "code",
      "source": [
        "# Histogram of Monthly Salaries\n",
        "plt.subplot(2, 2, 1)\n",
        "plt.hist(data['Monthly_Salary'], bins=20, color='skyblue', edgecolor='black')\n",
        "plt.title('Histogram of Monthly Salaries')\n",
        "plt.xlabel('Monthly Salary')\n",
        "plt.ylabel('Frequency')"
      ],
      "metadata": {
        "colab": {
          "base_uri": "https://localhost:8080/",
          "height": 287
        },
        "id": "bTUCqhsBjQnj",
        "outputId": "3262bb70-c160-4ea6-e56b-4fb00ee05255"
      },
      "execution_count": 14,
      "outputs": [
        {
          "output_type": "execute_result",
          "data": {
            "text/plain": [
              "Text(0, 0.5, 'Frequency')"
            ]
          },
          "metadata": {},
          "execution_count": 14
        },
        {
          "output_type": "display_data",
          "data": {
            "text/plain": [
              "<Figure size 640x480 with 1 Axes>"
            ],
            "image/png": "[encoded data removed]"
          },
          "metadata": {}
        }
      ]
    },
    {
      "cell_type": "code",
      "source": [
        "# Scatter Plot: Years of Experience vs. Performance Score\n",
        "plt.subplot(2, 2, 2)\n",
        "plt.scatter(data['Years_of_Experience'], data['Performance_Score'], color='orange')\n",
        "plt.title('Years of Experience vs. Performance Score')\n",
        "plt.xlabel('Years of Experience')\n",
        "plt.ylabel('Performance Score')"
      ],
      "metadata": {
        "colab": {
          "base_uri": "https://localhost:8080/",
          "height": 287
        },
        "id": "JN1QePsIjUdt",
        "outputId": "30a4a36e-81e4-464d-fb50-54c3870f08a9"
      },
      "execution_count": 15,
      "outputs": [
        {
          "output_type": "execute_result",
          "data": {
            "text/plain": [
              "Text(0, 0.5, 'Performance Score')"
            ]
          },
          "metadata": {},
          "execution_count": 15
        },
        {
          "output_type": "display_data",
          "data": {
            "text/plain": [
              "<Figure size 640x480 with 1 Axes>"
            ],
            "image/png": "[encoded data removed]"
          },
          "metadata": {}
        }
      ]
    },
    {
      "cell_type": "code",
      "source": [
        "# Heatmap of numerical features\n",
        "plt.subplot(2, 2, 3)\n",
        "correlation = data[['Monthly_Salary', 'Years_of_Experience', 'Performance_Score']].corr()\n",
        "sns.heatmap(correlation, annot=True, cmap='coolwarm', cbar=True)\n",
        "plt.title('Correlation Heatmap')"
      ],
      "metadata": {
        "colab": {
          "base_uri": "https://localhost:8080/",
          "height": 395
        },
        "id": "byps0yv2jZiz",
        "outputId": "ce5ccf91-bf38-4267-f2ed-d4f6bd7809ed"
      },
      "execution_count": 16,
      "outputs": [
        {
          "output_type": "execute_result",
          "data": {
            "text/plain": [
              "Text(0.5, 1.0, 'Correlation Heatmap')"
            ]
          },
          "metadata": {},
          "execution_count": 16
        },
        {
          "output_type": "display_data",
          "data": {
            "text/plain": [
              "<Figure size 640x480 with 2 Axes>"
            ],
            "image/png": "[encoded data removed]"
          },
          "metadata": {}
        }
      ]
    },
    {
      "cell_type": "code",
      "source": [
        "plt.tight_layout()\n",
        "plt.show()"
      ],
      "metadata": {
        "colab": {
          "base_uri": "https://localhost:8080/",
          "height": 34
        },
        "id": "xZJpDGhFjdKk",
        "outputId": "d6e0c940-df89-4642-e0e0-dbb66614ea25"
      },
      "execution_count": 17,
      "outputs": [
        {
          "output_type": "display_data",
          "data": {
            "text/plain": [
              "<Figure size 640x480 with 0 Axes>"
            ]
          },
          "metadata": {}
        }
      ]
    },
    {
      "cell_type": "code",
      "source": [
        "# Save the processed dataset to a new CSV file\n",
        "data.to_csv(\"processed_employee_performance.csv\", index=False)\n",
        "print(\"Processed dataset saved as 'processed_employee_performance.csv'\")"
      ],
      "metadata": {
        "colab": {
          "base_uri": "https://localhost:8080/",
          "height": 0
        },
        "id": "49-qlPX9jhuL",
        "outputId": "924d79ca-3c01-4133-985a-7704353b2053"
      },
      "execution_count": 18,
      "outputs": [
        {
          "output_type": "stream",
          "name": "stdout",
          "text": [
            "Processed dataset saved as 'processed_employee_performance.csv'\n"
          ]
        }
      ]
    },
    {
      "cell_type": "code",
      "source": [],
      "metadata": {
        "id": "Lzf3sDehjlkX"
      },
      "execution_count": null,
      "outputs": []
    }
  ]
}